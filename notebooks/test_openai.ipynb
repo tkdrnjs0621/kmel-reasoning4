{
 "cells": [
  {
   "cell_type": "code",
   "execution_count": 2,
   "id": "a00ee8d7",
   "metadata": {},
   "outputs": [
    {
     "name": "stderr",
     "output_type": "stream",
     "text": [
      "/home/tkdrnjs0621/miniconda3/envs/qwen2a2/lib/python3.10/site-packages/tqdm/auto.py:21: TqdmWarning: IProgress not found. Please update jupyter and ipywidgets. See https://ipywidgets.readthedocs.io/en/stable/user_install.html\n",
      "  from .autonotebook import tqdm as notebook_tqdm\n"
     ]
    },
    {
     "data": {
      "text/plain": [
       "True"
      ]
     },
     "execution_count": 2,
     "metadata": {},
     "output_type": "execute_result"
    }
   ],
   "source": [
    "from datasets import load_dataset, Dataset\n",
    "from tqdm import tqdm\n",
    "import openai\n",
    "from dotenv import load_dotenv\n",
    "import os\n",
    "from openai import OpenAI\n",
    "\n",
    "load_dotenv()"
   ]
  },
  {
   "cell_type": "code",
   "execution_count": 3,
   "id": "d6b7cebc",
   "metadata": {},
   "outputs": [],
   "source": [
    "client = OpenAI(api_key=os.environ['OPENAI_API_KEY'])"
   ]
  },
  {
   "cell_type": "code",
   "execution_count": 4,
   "id": "691f5c97",
   "metadata": {},
   "outputs": [],
   "source": [
    "dataset = Dataset.from_json('/home/tkdrnjs0621/work/kmel-reasoning3/dataset/original/hiv_train_2k.jsonl')"
   ]
  },
  {
   "cell_type": "code",
   "execution_count": 5,
   "id": "ba850bc1",
   "metadata": {},
   "outputs": [
    {
     "data": {
      "text/plain": [
       "{'SELFIES': '[C][C][S][C][Branch1][C][N][=C][Branch1][S][S][=Branch1][C][=O][=Branch1][C][=O][C][=C][C][=C][C][=C][Ring1][=Branch1][C][=Ring1][#C][C]',\n",
       " 'result': 'Yes.',\n",
       " 'id': '28-6970c00840fe46729c1aef69c35b2819'}"
      ]
     },
     "execution_count": 5,
     "metadata": {},
     "output_type": "execute_result"
    }
   ],
   "source": [
    "dataset[0]"
   ]
  },
  {
   "cell_type": "code",
   "execution_count": 7,
   "id": "76e12850",
   "metadata": {},
   "outputs": [
    {
     "name": "stdout",
     "output_type": "stream",
     "text": [
      "Let's analyze the SELFIES string:  \n",
      "[C][C][O][P][=Branch1][C][=O][Branch1][=N][N][C][=C][C][=C][C][Branch1][C][Cl][=C][Ring1][#Branch1][O][C][C]\n",
      "\n",
      "**Stepwise translation and interpretation:**\n",
      "- [C][C][O] : Suggests an ethoxy group.\n",
      "- [P][=Branch1][C][=O] : Phosphoryl group with adjacent carbonyl.\n",
      "- [Branch1][=N][N][C][=C][C][=C][C] : Likely part of a heterocycle, maybe a pyrazine or pyrimidine system.\n",
      "- [Branch1][C][Cl][=C][Ring1] : Cyclized ring possibly with a chloro substituent.\n",
      "- [#Branch1][O][C][C] : Terminal group, possibly an alcohol or ether.\n",
      "\n",
      "**Identifying structural motifs:**  \n",
      "- Contains a phosphorus center with C, O, and (possibly) N linkages, reminiscent of phosphonomethyl moieties.\n",
      "- Heterocyclic content with nitrogen involvement (N–N–C connectivity), possibly indicating a substituted pyrimidine/purine or related heterocycle.\n",
      "- There is a chloro substituent and what appears to be an aromatic (or heteroaromatic) fused ring.\n",
      "\n",
      "**Comparison to known HIV inhibitors:**  \n",
      "- Many HIV reverse transcriptase inhibitors are nucleoside/nucleotide analogs (e.g., zidovudine, tenofovir), often containing a phosphonate or phosphate group attached to a sugar/heterocycle backbone.\n",
      "- Tenofovir is a phosphonomethyl purine analog; the presence of a phosphorus atom, adjacent oxygens, and a nitrogenous heterocycle aligns well.\n",
      "- Cl-substituted aromatic/heteroaromatic rings are common in medicinal chemistry but are not a defining hallmark for HIV inhibition alone.\n",
      "\n",
      "**Key factors for HIV inhibition:**  \n",
      "- Phosphonate moieties on a heterocyclic scaffold strongly suggest nucleotide/nucleoside reverse transcriptase inhibitor design, a validated anti-HIV strategy.\n",
      "- The core structure closely resembles tenofovir (a known anti-HIV agent), which is [(R)-9-(2-Phosphonomethoxypropyl)adenine].\n",
      "- The use of pyrimidine/purine analogs with phosphate/phosphonate substitution is specific to HIV reverse transcriptase inhibitor drugs.\n",
      "\n",
      "**Conclusion reasoning:**  \n",
      "The SELFIES describes a molecule with both a phosphonate/phosphate group, a nitrogen-containing heterocycle, and additional substituents (including Cl, which may enhance bioactivity or specificity). These features, particularly the phosphoryl substitution on a purine-like ring, are recurrent in established HIV inhibitors.\n",
      "\n",
      "Therefore, based on chemical structure and functional group analysis aligned with known HIV inhibitor motifs:\n",
      "\n",
      "ANSWER: YES\n"
     ]
    }
   ],
   "source": [
    "completion = client.chat.completions.create(\n",
    "    model=\"gpt-4.1\",\n",
    "    messages= [\n",
    "    {\"role\": \"system\", \"content\": \"\"\"You are a chemical domain expert specializing in molecular property prediction.\n",
    "You will be provided with a SELFIES representation of a molecule.\n",
    "Your task is to determine whether the given molecule functions as an inhibitor of the human immunodeficiency virus (HIV).\n",
    "\n",
    "Analyze the molecule and provide a detailed explanation of your reasoning, citing relevant chemical properties, structural features, or known biological activity.\n",
    "\n",
    "After your reasoning, insert a new line.\n",
    "\n",
    "On the following line, present your conclusion in the exact format of \"ANSWER: YES\", if the molecule can inhibit HIV replication, and \"ANSWER: NO\" if it cannot.\n",
    "\"\"\".strip()},\n",
    "    {\"role\": \"user\", \"content\": dataset[0]['SELFIES']},\n",
    "],\n",
    "    temperature=1,\n",
    "    top_p=1,\n",
    ")\n",
    "\n",
    "print(completion.choices[0].message.content)"
   ]
  },
  {
   "cell_type": "code",
   "execution_count": 7,
   "id": "effa6e85",
   "metadata": {},
   "outputs": [
    {
     "name": "stdout",
     "output_type": "stream",
     "text": [
      "**1. Presence of Functional Groups Associated with HIV Inhibition**  \n",
      "A key consideration for HIV inhibition is the presence of chemical functionalities known to interfere with viral enzymes, particularly reverse transcriptase or protease. The SELFIES string indicates the existence of carbonyl groups (C=O), thiol (–S–), and nitrile (–C#N) functionalities. Carbonyl groups often participate in hydrogen bonding with enzyme active sites, while sulfur-containing groups are capable of forming disulfide bridges or binding to metal cofactors present in viral enzymes.\n",
      "\n",
      "**2. Molecular Framework and Conjugation**  \n",
      "The molecule exhibits extended conjugation, as evidenced by multiple alternating double bonds ([=C][C][=C][C][=C][C][=C]). Such conjugated systems can facilitate strong π-π stacking interactions, which improve binding affinity to nucleic acid-binding sites of viral proteins. Aromatic or pseudo-aromatic frameworks are common in known HIV inhibitors, enhancing their ability to intercalate or bind with target biomolecules.\n",
      "\n",
      "**3. Ring Structures and Structural Rigidity**  \n",
      "The molecule constructs a ring system, as denoted by `[Ring1]` and closing branches. Cyclic structures impart conformational rigidity, which is essential for molecular recognition and selective binding in the enzyme active site. Several successful HIV inhibitors are characterized by such rigidity, helping the molecule to fit snugly into the enzyme’s binding pocket.\n",
      "\n",
      "**4. Sulfur–Sulfur and Heteroatom Content**  \n",
      "The appearance of disulfide linkages or adjacent sulfur atoms ([S][S]) provides unique redox chemistry and potential for covalent interaction with cysteine residues in viral proteins. High sulfur content also enables target specificity and bioactivity, as observed in some classes of anti-HIV drugs.\n",
      "\n",
      "**5. Nitrogen Atoms and Hydrogen Bond Acceptors/Donors**  \n",
      "The molecule incorporates nitrogen species ([N] and [=C][N]), conferring hydrogen bond acceptor and donor properties. These are significant in forming key interactions within the active site of HIV enzymes, such as reverse transcriptase or integrase, thereby inhibiting enzyme function.\n",
      "\n",
      "Taken together, the molecule’s incorporation of multiple structural features—carbonyl, conjugated systems, heteroatoms (S, N), ring systems, and rigidity—strongly supports its potential as an HIV inhibitor through favorable molecular interactions and interference with viral enzyme action.\n",
      "\n",
      "ANSWER: YES\n"
     ]
    }
   ],
   "source": [
    "txt = \"SELFIES: \"+dataset[0]['SELFIES']+'\\nGT Answer: '+dataset[0]['result'][:-1]\n",
    "completion = client.chat.completions.create(\n",
    "    model=\"gpt-4.1\",\n",
    "    messages= [\n",
    "    {\"role\": \"system\", \"content\": \"\"\"You are a chemical domain expert specializing in molecular property prediction.\n",
    "You will be provided with a SELFIES representation of a molecule and a ground truth answer.\n",
    "Your task is to give a detailed reasoning and determine if the given molecule functions as an inhibitor of the human immunodeficiency virus (HIV).\n",
    "\n",
    "You must give an detailed explanation of the reasoning process. Use numbering and bold for each relevant point categories.\n",
    "For every relevant point, provide a clear, concise paragraph explaining its role and significance in the context of potential HIV inhibition. \n",
    "\n",
    "The ground truth answer is given. The final conclusion must be identical to the ground truth, but you must not use or reference the ground truth explicitly while reasoning.\n",
    "Do not write phrases such as “since the answer is…” or any variant that indicates reliance on the label.\n",
    "\n",
    "After your reasoning, insert a new line.\n",
    "\n",
    "On the following line, present your conclusion in the exact format of \"ANSWER: YES\", if the molecule can inhibit HIV replication, and \"ANSWER: NO\" if it cannot.\n",
    "\"\"\".strip()},\n",
    "    {\"role\": \"user\", \"content\": txt},\n",
    "],\n",
    "    temperature=1,\n",
    "    top_p=1,\n",
    ")\n",
    "\n",
    "print(completion.choices[0].message.content)"
   ]
  },
  {
   "cell_type": "code",
   "execution_count": 6,
   "id": "c52e1fb5",
   "metadata": {},
   "outputs": [
    {
     "name": "stdout",
     "output_type": "stream",
     "text": [
      "\"Yes.\",\"id\":\"25-d8151750ccf44ee4954a838e11c9ae3c\",\"reasoning\":\"Let's analyze the SELFIES string:\n",
      "\n",
      "1. Structure Overview:\n",
      "- The representation suggests a tricyclic or bicyclic system, with branches, sulfur (S), multiple double bonds (=C), oxygen atoms ([O]), and a terminal amine ([N]).\n",
      "- There's an ether linkage ([O][C]), a sulfur heterocycle ([S] within rings), and other functionalities, as well as several branches suggesting substituents.\n",
      "\n",
      "2. Blood-Brain Barrier (BBB) Penetration Determinants:\n",
      "- Key properties influencing BBBP:\n",
      "  - Molecular weight (MW) ideally < 450 Da.\n",
      "  - High lipophilicity (logP between 1–4).\n",
      "  - Low number of hydrogen bond donors (≤2) and acceptors (≤5).\n",
      "  - Low polar surface area (PSA, < 90 Å² favored).\n",
      "  - Few or no ionizable groups at physiological pH.\n",
      "\n",
      "3. Functional Group Analysis:\n",
      "- The molecule has two oxygens likely as ether or alcohol (potential hydrogen bond acceptors).\n",
      "- It has a terminal primary\\/secondary amine ([N]) and a possible thioether or thiophene ([S]).\n",
      "- Extensive hydrocarbon skeleton and aromatic or unsaturated rings, likely increasing lipophilicity.\n",
      "- Branching and conjugation probably further increase hydrophobicity.\n",
      "- Two hydrogen bond donors (OHs or NHs) and possibly 3–4 acceptors (O, N, S).\n",
      "\n",
      "4. Size Estimate:\n",
      "- Given the multiple rings, several branches, and length, the molecular weight is likely above 400 Da but possibly below 550 Da, depending on exact structure.\n",
      "\n",
      "5. PSA and logP:\n",
      "- PSA is likely moderate (expected 40–80 Å²).\n",
      "- The hydrocarbon content and heterocyclic framework suggest a logP in the range consistent with CNS drugs (likely 2–4).\n",
      "\n",
      "6. Structural Red Flags:\n",
      "- No obvious strongly ionizable groups at physiological pH.\n",
      "- No quaternary ammonium, carboxylate, or sulfonate groups.\n",
      "- Aromatic and sulfur-containing heterocycles are seen in several CNS-active drugs.\n",
      "\n",
      "7. Comparisons to Known BBB+ Structures:\n",
      "- Structural features (heterocycles, low-to-moderate H-bonding, moderate size, aromaticity) are common among molecules that do cross the BBB (e.g., tricyclic antidepressants like imipramine, antipsychotics).\n",
      "\n",
      "8. Possible Limitation:\n",
      "- The presence of [S] can indicate higher PSA, but if embedded in an aromatic ring (thiophene, thiazole), its impact is reduced.\n",
      "\n",
      "**Summary:**\n",
      "This molecule's estimated size, hydrogen bonding profile, and lipophilicity align with trends seen in BBB-permeable drugs. Its features do not strongly preclude BBB penetration.\n",
      "\n",
      "ANSWER: YES\n"
     ]
    }
   ],
   "source": [
    "print(\"\"\"\"Yes.\",\"id\":\"25-d8151750ccf44ee4954a838e11c9ae3c\",\"reasoning\":\"Let's analyze the SELFIES string:\\n\\n1. Structure Overview:\\n- The representation suggests a tricyclic or bicyclic system, with branches, sulfur (S), multiple double bonds (=C), oxygen atoms ([O]), and a terminal amine ([N]).\\n- There's an ether linkage ([O][C]), a sulfur heterocycle ([S] within rings), and other functionalities, as well as several branches suggesting substituents.\\n\\n2. Blood-Brain Barrier (BBB) Penetration Determinants:\\n- Key properties influencing BBBP:\\n  - Molecular weight (MW) ideally < 450 Da.\\n  - High lipophilicity (logP between 1\\u20134).\\n  - Low number of hydrogen bond donors (\\u22642) and acceptors (\\u22645).\\n  - Low polar surface area (PSA, < 90 \\u00c5\\u00b2 favored).\\n  - Few or no ionizable groups at physiological pH.\\n\\n3. Functional Group Analysis:\\n- The molecule has two oxygens likely as ether or alcohol (potential hydrogen bond acceptors).\\n- It has a terminal primary\\/secondary amine ([N]) and a possible thioether or thiophene ([S]).\\n- Extensive hydrocarbon skeleton and aromatic or unsaturated rings, likely increasing lipophilicity.\\n- Branching and conjugation probably further increase hydrophobicity.\\n- Two hydrogen bond donors (OHs or NHs) and possibly 3\\u20134 acceptors (O, N, S).\\n\\n4. Size Estimate:\\n- Given the multiple rings, several branches, and length, the molecular weight is likely above 400 Da but possibly below 550 Da, depending on exact structure.\\n\\n5. PSA and logP:\\n- PSA is likely moderate (expected 40\\u201380 \\u00c5\\u00b2).\\n- The hydrocarbon content and heterocyclic framework suggest a logP in the range consistent with CNS drugs (likely 2\\u20134).\\n\\n6. Structural Red Flags:\\n- No obvious strongly ionizable groups at physiological pH.\\n- No quaternary ammonium, carboxylate, or sulfonate groups.\\n- Aromatic and sulfur-containing heterocycles are seen in several CNS-active drugs.\\n\\n7. Comparisons to Known BBB+ Structures:\\n- Structural features (heterocycles, low-to-moderate H-bonding, moderate size, aromaticity) are common among molecules that do cross the BBB (e.g., tricyclic antidepressants like imipramine, antipsychotics).\\n\\n8. Possible Limitation:\\n- The presence of [S] can indicate higher PSA, but if embedded in an aromatic ring (thiophene, thiazole), its impact is reduced.\\n\\n**Summary:**\\nThis molecule's estimated size, hydrogen bonding profile, and lipophilicity align with trends seen in BBB-permeable drugs. Its features do not strongly preclude BBB penetration.\\n\\nANSWER: YES\"\"\")"
   ]
  }
 ],
 "metadata": {
  "kernelspec": {
   "display_name": "qwen2a2",
   "language": "python",
   "name": "python3"
  },
  "language_info": {
   "codemirror_mode": {
    "name": "ipython",
    "version": 3
   },
   "file_extension": ".py",
   "mimetype": "text/x-python",
   "name": "python",
   "nbconvert_exporter": "python",
   "pygments_lexer": "ipython3",
   "version": "3.10.16"
  }
 },
 "nbformat": 4,
 "nbformat_minor": 5
}

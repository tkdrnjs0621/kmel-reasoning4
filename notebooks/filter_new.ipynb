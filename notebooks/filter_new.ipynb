{
 "cells": [
  {
   "cell_type": "code",
   "execution_count": 1,
   "id": "b734dde7",
   "metadata": {},
   "outputs": [
    {
     "name": "stderr",
     "output_type": "stream",
     "text": [
      "/home/tkdrnjs0621/miniconda3/envs/qwen2a2/lib/python3.10/site-packages/tqdm/auto.py:21: TqdmWarning: IProgress not found. Please update jupyter and ipywidgets. See https://ipywidgets.readthedocs.io/en/stable/user_install.html\n",
      "  from .autonotebook import tqdm as notebook_tqdm\n"
     ]
    }
   ],
   "source": [
    "from datasets import Dataset"
   ]
  },
  {
   "cell_type": "code",
   "execution_count": 4,
   "id": "ca1e8af4",
   "metadata": {},
   "outputs": [],
   "source": [
    "a = Dataset.from_json('/home/tkdrnjs0621/work/kmel-reasoning3/dataset/original/hiv_train.jsonl')"
   ]
  },
  {
   "cell_type": "code",
   "execution_count": 5,
   "id": "81cd34b6",
   "metadata": {},
   "outputs": [
    {
     "name": "stderr",
     "output_type": "stream",
     "text": [
      "Generating train split: 10000 examples [00:00, 88935.86 examples/s]\n"
     ]
    }
   ],
   "source": [
    "b = Dataset.from_json('/home/tkdrnjs0621/work/kmel-reasoning3/dataset/filtered_train_data/hiv_train_10k.jsonl')"
   ]
  },
  {
   "cell_type": "code",
   "execution_count": 8,
   "id": "e08fb105",
   "metadata": {},
   "outputs": [],
   "source": [
    "id_ls = [t['id'] for t in b]\n",
    "\n",
    "ls = []\n",
    "\n",
    "for k in a:\n",
    "    if(k['result']=='Yes.' and not (k['id'] in id_ls)):\n",
    "        ls.append(k)"
   ]
  },
  {
   "cell_type": "code",
   "execution_count": 10,
   "id": "a9eb713a",
   "metadata": {},
   "outputs": [
    {
     "name": "stderr",
     "output_type": "stream",
     "text": [
      "Creating json from Arrow format: 100%|██████████| 2/2 [00:00<00:00, 136.19ba/s]\n"
     ]
    },
    {
     "data": {
      "text/plain": [
       "412951"
      ]
     },
     "execution_count": 10,
     "metadata": {},
     "output_type": "execute_result"
    }
   ],
   "source": [
    "Dataset.from_list(ls).to_json('/home/tkdrnjs0621/work/kmel-reasoning3/original/hiv_t.jsonl')"
   ]
  },
  {
   "cell_type": "code",
   "execution_count": null,
   "id": "b9f4783c",
   "metadata": {},
   "outputs": [],
   "source": []
  }
 ],
 "metadata": {
  "kernelspec": {
   "display_name": "qwen2a2",
   "language": "python",
   "name": "python3"
  },
  "language_info": {
   "codemirror_mode": {
    "name": "ipython",
    "version": 3
   },
   "file_extension": ".py",
   "mimetype": "text/x-python",
   "name": "python",
   "nbconvert_exporter": "python",
   "pygments_lexer": "ipython3",
   "version": "3.10.16"
  }
 },
 "nbformat": 4,
 "nbformat_minor": 5
}

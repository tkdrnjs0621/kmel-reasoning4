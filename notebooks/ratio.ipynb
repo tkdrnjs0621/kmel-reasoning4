{
 "cells": [
  {
   "cell_type": "code",
   "execution_count": 5,
   "id": "c7054cea",
   "metadata": {},
   "outputs": [],
   "source": [
    "from datasets import Dataset\n",
    "import random"
   ]
  },
  {
   "cell_type": "code",
   "execution_count": 2,
   "id": "c47afdf2",
   "metadata": {},
   "outputs": [],
   "source": [
    "a = Dataset.from_json('/home/tkdrnjs0621/work/kmel-reasoning3/dataset/original/hiv_train.jsonl')"
   ]
  },
  {
   "cell_type": "code",
   "execution_count": 3,
   "id": "4a6e5958",
   "metadata": {},
   "outputs": [],
   "source": [
    "ls_y = []\n",
    "ls_n = []\n",
    "for k in a:\n",
    "    if(k['result']=='Yes.'):\n",
    "        ls_y.append(k)\n",
    "    else:\n",
    "        ls_n.append(k)"
   ]
  },
  {
   "cell_type": "code",
   "execution_count": 4,
   "id": "02090838",
   "metadata": {},
   "outputs": [
    {
     "name": "stdout",
     "output_type": "stream",
     "text": [
      "1232 31669\n"
     ]
    }
   ],
   "source": [
    "print(len(ls_y), len(ls_n))"
   ]
  },
  {
   "cell_type": "code",
   "execution_count": 8,
   "id": "ea173e0b",
   "metadata": {},
   "outputs": [],
   "source": [
    "sample_a = random.sample(ls_y, 1000)\n",
    "sample_b = random.sample(ls_n, 1000)\n",
    "\n",
    "list_c = sample_a + sample_b\n",
    "list_c = random.sample(list_c, 2000)"
   ]
  },
  {
   "cell_type": "code",
   "execution_count": 9,
   "id": "f9148696",
   "metadata": {},
   "outputs": [
    {
     "name": "stderr",
     "output_type": "stream",
     "text": [
      "Creating json from Arrow format: 100%|██████████| 2/2 [00:00<00:00, 105.04ba/s]\n"
     ]
    },
    {
     "data": {
      "text/plain": [
       "621142"
      ]
     },
     "execution_count": 9,
     "metadata": {},
     "output_type": "execute_result"
    }
   ],
   "source": [
    "Dataset.from_list(list_c).to_json('/home/tkdrnjs0621/work/kmel-reasoning3/dataset/original/hiv_train_2k.jsonl')"
   ]
  }
 ],
 "metadata": {
  "kernelspec": {
   "display_name": "qwen2a2",
   "language": "python",
   "name": "python3"
  },
  "language_info": {
   "codemirror_mode": {
    "name": "ipython",
    "version": 3
   },
   "file_extension": ".py",
   "mimetype": "text/x-python",
   "name": "python",
   "nbconvert_exporter": "python",
   "pygments_lexer": "ipython3",
   "version": "3.10.16"
  }
 },
 "nbformat": 4,
 "nbformat_minor": 5
}

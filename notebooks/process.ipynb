{
 "cells": [
  {
   "cell_type": "code",
   "execution_count": 1,
   "id": "0d1abd01",
   "metadata": {},
   "outputs": [],
   "source": [
    "import json "
   ]
  },
  {
   "cell_type": "code",
   "execution_count": 18,
   "id": "28812acf",
   "metadata": {},
   "outputs": [],
   "source": [
    "with open(\"/home/tkdrnjs0621/work/kmel-reasoning2/dataset/molpropclass/task24_bace_molnet_test.json\", \"r\") as file:\n",
    "    data = json.load(file)"
   ]
  },
  {
   "cell_type": "code",
   "execution_count": 19,
   "id": "4906da93",
   "metadata": {},
   "outputs": [],
   "source": [
    "ls = []\n",
    "for k in data[\"Instances\"]:\n",
    "    t = {}\n",
    "    t['SELFIES']=k['input'].replace('<bom>','').replace('<eom>','').split('Molecule:')[-1].strip()\n",
    "    t['result']=k['output'][0]\n",
    "    t['id']=k['id']\n",
    "    ls.append(t)"
   ]
  },
  {
   "cell_type": "code",
   "execution_count": 20,
   "id": "82ad5dbf",
   "metadata": {},
   "outputs": [
    {
     "name": "stderr",
     "output_type": "stream",
     "text": [
      "Creating json from Arrow format:   0%|          | 0/1 [00:00<?, ?ba/s]"
     ]
    },
    {
     "name": "stderr",
     "output_type": "stream",
     "text": [
      "Creating json from Arrow format: 100%|██████████| 1/1 [00:00<00:00, 315.22ba/s]\n"
     ]
    },
    {
     "data": {
      "text/plain": [
       "57433"
      ]
     },
     "execution_count": 20,
     "metadata": {},
     "output_type": "execute_result"
    }
   ],
   "source": [
    "from datasets import Dataset\n",
    "Dataset.from_list(ls).to_json('/home/tkdrnjs0621/work/kmel-reasoning2/dataset/processed/bace_test.jsonl')"
   ]
  },
  {
   "cell_type": "code",
   "execution_count": 3,
   "id": "b4ebdb24",
   "metadata": {},
   "outputs": [
    {
     "data": {
      "text/plain": [
       "1631"
      ]
     },
     "execution_count": 3,
     "metadata": {},
     "output_type": "execute_result"
    }
   ],
   "source": [
    "len(data[\"Instances\"])"
   ]
  },
  {
   "cell_type": "code",
   "execution_count": 4,
   "id": "8c822347",
   "metadata": {},
   "outputs": [
    {
     "name": "stdout",
     "output_type": "stream",
     "text": [
      "Molecule: <bom>[C][C@H1][Branch1][C][N][C][C][=C][C][=C][C][=C][Ring1][=Branch1]<eom>\n"
     ]
    }
   ],
   "source": [
    "print(data[\"Instances\"][1]['input'].replace('<p>','').replace('<bop>','').replace('<eop>',''))"
   ]
  },
  {
   "cell_type": "code",
   "execution_count": 5,
   "id": "af873ea7",
   "metadata": {},
   "outputs": [
    {
     "name": "stdout",
     "output_type": "stream",
     "text": [
      "Molecule: [C][C@H1][Branch1][C][N][C][C][=C][C][=C][C][=C][Ring1][=Branch1]\n"
     ]
    }
   ],
   "source": [
    "print(data[\"Instances\"][1]['input'].replace('<boi>','').replace('<bom>','').replace('<eoi>','').replace('<eom>',''))"
   ]
  },
  {
   "cell_type": "code",
   "execution_count": 20,
   "id": "f108b892",
   "metadata": {},
   "outputs": [
    {
     "name": "stdout",
     "output_type": "stream",
     "text": [
      "['-0.2191']\n"
     ]
    }
   ],
   "source": [
    "print(data[\"Instances\"][1]['output'])"
   ]
  }
 ],
 "metadata": {
  "kernelspec": {
   "display_name": "qwen2a2",
   "language": "python",
   "name": "python3"
  },
  "language_info": {
   "codemirror_mode": {
    "name": "ipython",
    "version": 3
   },
   "file_extension": ".py",
   "mimetype": "text/x-python",
   "name": "python",
   "nbconvert_exporter": "python",
   "pygments_lexer": "ipython3",
   "version": "3.10.16"
  }
 },
 "nbformat": 4,
 "nbformat_minor": 5
}
